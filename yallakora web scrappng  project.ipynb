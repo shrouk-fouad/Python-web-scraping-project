{
 "cells": [
  {
   "cell_type": "code",
   "execution_count": 1,
   "id": "0c1b4f24",
   "metadata": {},
   "outputs": [],
   "source": [
    "import requests\n",
    "from bs4 import BeautifulSoup \n",
    "import csv\n",
    "import datetime\n",
    "from itertools import zip_longest"
   ]
  },
  {
   "cell_type": "code",
   "execution_count": 2,
   "id": "c84a32ad",
   "metadata": {},
   "outputs": [
    {
     "name": "stdout",
     "output_type": "stream",
     "text": [
      "Please enter a date (MM/DD/YYYY)12/12/2022\n",
      "2022-12-12 00:00:00\n"
     ]
    }
   ],
   "source": [
    "# input date\n",
    "date = input('Please enter a date (MM/DD/YYYY)')\n",
    "\n",
    "# giving the date format\n",
    "date_format = '%m/%d/%Y'\n",
    "\n",
    "# using try-except blocks for handling the exceptions\n",
    "try:\n",
    "\n",
    "   # formatting the date using strptime() function\n",
    "    dateObject = datetime.datetime.strptime(date, date_format)\n",
    "    print(dateObject)\n",
    "\n",
    "# If the date validation goes wrong\n",
    "except ValueError:\n",
    "    # printing the appropriate text if ValueError occurs\n",
    "    print(\"Incorrect data format, should be MM/DD/YYYY\")\n",
    "    \n"
   ]
  },
  {
   "cell_type": "code",
   "execution_count": 3,
   "id": "81945ef3",
   "metadata": {},
   "outputs": [
    {
     "data": {
      "text/plain": [
       "'https://www.yallakora.com/match-center?date=12/12/2022#days'"
      ]
     },
     "execution_count": 3,
     "metadata": {},
     "output_type": "execute_result"
    }
   ],
   "source": [
    "url = f'https://www.yallakora.com/match-center?date={date}#days'\n",
    "\n",
    "url\n",
    "\n"
   ]
  },
  {
   "cell_type": "code",
   "execution_count": 4,
   "id": "827efedd",
   "metadata": {},
   "outputs": [],
   "source": [
    "response = requests.get(url)"
   ]
  },
  {
   "cell_type": "code",
   "execution_count": 5,
   "id": "8e433fc2",
   "metadata": {},
   "outputs": [],
   "source": [
    "src = response.content"
   ]
  },
  {
   "cell_type": "code",
   "execution_count": 6,
   "id": "4b8dd1c4",
   "metadata": {},
   "outputs": [],
   "source": [
    "soup = BeautifulSoup(src, 'lxml')"
   ]
  },
  {
   "cell_type": "code",
   "execution_count": 7,
   "id": "4f79e34b",
   "metadata": {},
   "outputs": [],
   "source": [
    "\n",
    "championships = soup.find_all('div', {'class':'matchCard'}) #returns  a list of all championships\n"
   ]
  },
  {
   "cell_type": "code",
   "execution_count": 8,
   "id": "6316fa2d",
   "metadata": {},
   "outputs": [],
   "source": [
    "championship_title = []\n",
    "team_A = []\n",
    "team_B = []\n",
    "match_time = []\n",
    "score = []\n"
   ]
  },
  {
   "cell_type": "code",
   "execution_count": 9,
   "id": "27a8dd02",
   "metadata": {},
   "outputs": [],
   "source": [
    "for i in range(len(championships)):\n",
    "    \n",
    "    championship_name = championships[i].find('h2').text.strip()\n",
    "    \n",
    "    all_matches = championships[i].contents[3].find_all('li')\n",
    "  \n",
    "    for i in range(len(all_matches)):\n",
    "        \n",
    "        championship_title.append(championship_name)\n",
    "\n",
    "        #get teams names\n",
    "        team_A.append(all_matches[i].find('div',{'class':'teams teamA'}).text.strip())\n",
    "        team_B.append(all_matches[i].find('div',{'class':'teams teamB'}).text.strip())\n",
    "\n",
    "        #get scores\n",
    "        match_result = all_matches[i].find('div',{'class':'MResult'}).find_all('span', {'class':'score'})\n",
    "        \n",
    "        team_A_score = match_result[0].text.strip()\n",
    "        \n",
    "        team_B_score = match_result[1].text.strip()\n",
    "        \n",
    "        score.append(f'{team_A_score}—{team_B_score}')\n",
    "\n",
    "        #get match time\n",
    "        match_time.append(all_matches[i].find('div',{'class':'MResult'}).find('span',{'class':'time'}).text.strip())\n"
   ]
  },
  {
   "cell_type": "code",
   "execution_count": 10,
   "id": "ff22a2c5",
   "metadata": {},
   "outputs": [
    {
     "data": {
      "text/plain": [
       "['الدوري المصري', 'الدوري المصري', 'الدوري المصري']"
      ]
     },
     "execution_count": 10,
     "metadata": {},
     "output_type": "execute_result"
    }
   ],
   "source": [
    "championship_title"
   ]
  },
  {
   "cell_type": "code",
   "execution_count": 11,
   "id": "73e95b4e",
   "metadata": {},
   "outputs": [
    {
     "data": {
      "text/plain": [
       "['سيراميكا كليوباترا', 'الإسماعيلي', 'الأهلي']"
      ]
     },
     "execution_count": 11,
     "metadata": {},
     "output_type": "execute_result"
    }
   ],
   "source": [
    "team_A"
   ]
  },
  {
   "cell_type": "code",
   "execution_count": 12,
   "id": "8e22cb0e",
   "metadata": {},
   "outputs": [
    {
     "data": {
      "text/plain": [
       "['حرس الحدود', 'فيوتشر اف سي', 'الاتحاد السكندري']"
      ]
     },
     "execution_count": 12,
     "metadata": {},
     "output_type": "execute_result"
    }
   ],
   "source": [
    "team_B"
   ]
  },
  {
   "cell_type": "code",
   "execution_count": 13,
   "id": "da686572",
   "metadata": {},
   "outputs": [
    {
     "data": {
      "text/plain": [
       "['2—1', '0—0', '3—0']"
      ]
     },
     "execution_count": 13,
     "metadata": {},
     "output_type": "execute_result"
    }
   ],
   "source": [
    "score"
   ]
  },
  {
   "cell_type": "code",
   "execution_count": 14,
   "id": "6f67de0e",
   "metadata": {},
   "outputs": [
    {
     "data": {
      "text/plain": [
       "['14:45', '17:00', '19:00']"
      ]
     },
     "execution_count": 14,
     "metadata": {},
     "output_type": "execute_result"
    }
   ],
   "source": [
    "match_time"
   ]
  },
  {
   "cell_type": "code",
   "execution_count": 15,
   "id": "32896901",
   "metadata": {},
   "outputs": [],
   "source": [
    "#create list of columns\n",
    "columns = [championship_title , team_A , team_B , score , match_time]\n",
    "\n",
    "#unpack info to columns\n",
    "rows = zip_longest(*columns)\n",
    "\n",
    "#create file and remove blank rows from it\n",
    "with open('yalla korra web scrapping.csv', encoding=\"utf-8\") as input, open('yalla korra web scrapping.csv', 'w', newline='', encoding=\"utf-8\") as output :  #create new file\n",
    "    wr=csv.writer(output)  #prepare created file to insert data \n",
    "    wr.writerow(['championship','team A','team B', 'score', 'time']) #headers\n",
    "    wr.writerows(rows) #fill rows with extracted info in lists\n",
    "    for row in csv.reader(input):\n",
    "         if any(field.strip() for field in row):\n",
    "            writer.writerow(row)\n",
    "    input.close()\n"
   ]
  },
  {
   "cell_type": "code",
   "execution_count": null,
   "id": "664af95c",
   "metadata": {},
   "outputs": [],
   "source": []
  }
 ],
 "metadata": {
  "kernelspec": {
   "display_name": "Python 3 (ipykernel)",
   "language": "python",
   "name": "python3"
  },
  "language_info": {
   "codemirror_mode": {
    "name": "ipython",
    "version": 3
   },
   "file_extension": ".py",
   "mimetype": "text/x-python",
   "name": "python",
   "nbconvert_exporter": "python",
   "pygments_lexer": "ipython3",
   "version": "3.10.8"
  }
 },
 "nbformat": 4,
 "nbformat_minor": 5
}
